{
 "cells": [
  {
   "cell_type": "markdown",
   "metadata": {},
   "source": [
    "# Process temperature data from retrosheet game files\n",
    "#### Christopher Callahan\n",
    "#### Christopher.W.Callahan.GR@dartmouth.edu"
   ]
  },
  {
   "cell_type": "markdown",
   "metadata": {},
   "source": [
    "#### Mechanics\n",
    "Dependencies"
   ]
  },
  {
   "cell_type": "code",
   "execution_count": 1,
   "metadata": {},
   "outputs": [
    {
     "name": "stderr",
     "output_type": "stream",
     "text": [
      "/dartfs-hpc/rc/home/y/f003k8y/.conda/envs/ccallahan/lib/python3.7/site-packages/sklearn/linear_model/least_angle.py:30: DeprecationWarning: `np.float` is a deprecated alias for the builtin `float`. To silence this warning, use `float` by itself. Doing this will not modify any behavior and is safe. If you specifically wanted the numpy scalar type, use `np.float64` here.\n",
      "Deprecated in NumPy 1.20; for more details and guidance: https://numpy.org/devdocs/release/1.20.0-notes.html#deprecations\n",
      "  method='lar', copy_X=True, eps=np.finfo(np.float).eps,\n",
      "/dartfs-hpc/rc/home/y/f003k8y/.conda/envs/ccallahan/lib/python3.7/site-packages/sklearn/linear_model/least_angle.py:167: DeprecationWarning: `np.float` is a deprecated alias for the builtin `float`. To silence this warning, use `float` by itself. Doing this will not modify any behavior and is safe. If you specifically wanted the numpy scalar type, use `np.float64` here.\n",
      "Deprecated in NumPy 1.20; for more details and guidance: https://numpy.org/devdocs/release/1.20.0-notes.html#deprecations\n",
      "  method='lar', copy_X=True, eps=np.finfo(np.float).eps,\n",
      "/dartfs-hpc/rc/home/y/f003k8y/.conda/envs/ccallahan/lib/python3.7/site-packages/sklearn/linear_model/least_angle.py:284: DeprecationWarning: `np.float` is a deprecated alias for the builtin `float`. To silence this warning, use `float` by itself. Doing this will not modify any behavior and is safe. If you specifically wanted the numpy scalar type, use `np.float64` here.\n",
      "Deprecated in NumPy 1.20; for more details and guidance: https://numpy.org/devdocs/release/1.20.0-notes.html#deprecations\n",
      "  eps=np.finfo(np.float).eps, copy_Gram=True, verbose=0,\n",
      "/dartfs-hpc/rc/home/y/f003k8y/.conda/envs/ccallahan/lib/python3.7/site-packages/sklearn/linear_model/least_angle.py:862: DeprecationWarning: `np.float` is a deprecated alias for the builtin `float`. To silence this warning, use `float` by itself. Doing this will not modify any behavior and is safe. If you specifically wanted the numpy scalar type, use `np.float64` here.\n",
      "Deprecated in NumPy 1.20; for more details and guidance: https://numpy.org/devdocs/release/1.20.0-notes.html#deprecations\n",
      "  eps=np.finfo(np.float).eps, copy_X=True, fit_path=True,\n",
      "/dartfs-hpc/rc/home/y/f003k8y/.conda/envs/ccallahan/lib/python3.7/site-packages/sklearn/linear_model/least_angle.py:1101: DeprecationWarning: `np.float` is a deprecated alias for the builtin `float`. To silence this warning, use `float` by itself. Doing this will not modify any behavior and is safe. If you specifically wanted the numpy scalar type, use `np.float64` here.\n",
      "Deprecated in NumPy 1.20; for more details and guidance: https://numpy.org/devdocs/release/1.20.0-notes.html#deprecations\n",
      "  eps=np.finfo(np.float).eps, copy_X=True, fit_path=True,\n",
      "/dartfs-hpc/rc/home/y/f003k8y/.conda/envs/ccallahan/lib/python3.7/site-packages/sklearn/linear_model/least_angle.py:1127: DeprecationWarning: `np.float` is a deprecated alias for the builtin `float`. To silence this warning, use `float` by itself. Doing this will not modify any behavior and is safe. If you specifically wanted the numpy scalar type, use `np.float64` here.\n",
      "Deprecated in NumPy 1.20; for more details and guidance: https://numpy.org/devdocs/release/1.20.0-notes.html#deprecations\n",
      "  eps=np.finfo(np.float).eps, positive=False):\n",
      "/dartfs-hpc/rc/home/y/f003k8y/.conda/envs/ccallahan/lib/python3.7/site-packages/sklearn/linear_model/least_angle.py:1362: DeprecationWarning: `np.float` is a deprecated alias for the builtin `float`. To silence this warning, use `float` by itself. Doing this will not modify any behavior and is safe. If you specifically wanted the numpy scalar type, use `np.float64` here.\n",
      "Deprecated in NumPy 1.20; for more details and guidance: https://numpy.org/devdocs/release/1.20.0-notes.html#deprecations\n",
      "  max_n_alphas=1000, n_jobs=None, eps=np.finfo(np.float).eps,\n",
      "/dartfs-hpc/rc/home/y/f003k8y/.conda/envs/ccallahan/lib/python3.7/site-packages/sklearn/linear_model/least_angle.py:1602: DeprecationWarning: `np.float` is a deprecated alias for the builtin `float`. To silence this warning, use `float` by itself. Doing this will not modify any behavior and is safe. If you specifically wanted the numpy scalar type, use `np.float64` here.\n",
      "Deprecated in NumPy 1.20; for more details and guidance: https://numpy.org/devdocs/release/1.20.0-notes.html#deprecations\n",
      "  max_n_alphas=1000, n_jobs=None, eps=np.finfo(np.float).eps,\n",
      "/dartfs-hpc/rc/home/y/f003k8y/.conda/envs/ccallahan/lib/python3.7/site-packages/sklearn/linear_model/least_angle.py:1738: DeprecationWarning: `np.float` is a deprecated alias for the builtin `float`. To silence this warning, use `float` by itself. Doing this will not modify any behavior and is safe. If you specifically wanted the numpy scalar type, use `np.float64` here.\n",
      "Deprecated in NumPy 1.20; for more details and guidance: https://numpy.org/devdocs/release/1.20.0-notes.html#deprecations\n",
      "  eps=np.finfo(np.float).eps, copy_X=True, positive=False):\n"
     ]
    }
   ],
   "source": [
    "import xarray as xr\n",
    "import numpy as np\n",
    "import sys\n",
    "import os\n",
    "import datetime\n",
    "import pandas as pd\n",
    "import matplotlib.pyplot as plt\n",
    "from mpl_toolkits.basemap import Basemap, cm\n",
    "from matplotlib import rcParams\n",
    "import matplotlib.gridspec as gridspec\n",
    "import seaborn as sns\n",
    "from sklearn import linear_model\n",
    "import statsmodels.api as sm\n",
    "import statsmodels.formula.api as smf"
   ]
  },
  {
   "cell_type": "markdown",
   "metadata": {},
   "source": [
    "Locations"
   ]
  },
  {
   "cell_type": "code",
   "execution_count": 2,
   "metadata": {},
   "outputs": [],
   "source": [
    "loc_eventfiles = \"../Data/RetrosheetEventFiles/\"\n",
    "loc_gamelogs = \"../Data/RetrosheetGameLogs/\"\n",
    "loc_otherbaseball = \"../Data/\""
   ]
  },
  {
   "cell_type": "markdown",
   "metadata": {},
   "source": [
    "years"
   ]
  },
  {
   "cell_type": "code",
   "execution_count": 3,
   "metadata": {},
   "outputs": [],
   "source": [
    "y1_in = 1954\n",
    "y2_in = 2019\n",
    "y1 = 1954\n",
    "y2 = 2019"
   ]
  },
  {
   "cell_type": "markdown",
   "metadata": {},
   "source": [
    "#### Analysis"
   ]
  },
  {
   "cell_type": "markdown",
   "metadata": {},
   "source": [
    "Read in game logs"
   ]
  },
  {
   "cell_type": "code",
   "execution_count": 4,
   "metadata": {},
   "outputs": [],
   "source": [
    "gamelogs = pd.read_csv(loc_gamelogs+\"GameLogs_\"+str(y1_in)+\"-\"+str(y2_in)+\".csv\",index_col=0)"
   ]
  },
  {
   "cell_type": "code",
   "execution_count": 5,
   "metadata": {},
   "outputs": [],
   "source": [
    "%%capture\n",
    "panel = gamelogs.loc[gamelogs[\"year\"].values>=y1,:]\n",
    "panel[\"temp_retrosheet_f\"] = np.full(len(panel[\"year\"].values),np.nan)\n",
    "panel[\"dome_status\"] = np.full(len(panel[\"year\"].values),np.nan)"
   ]
  },
  {
   "cell_type": "markdown",
   "metadata": {},
   "source": [
    "Get unique list of home teams and years"
   ]
  },
  {
   "cell_type": "code",
   "execution_count": 6,
   "metadata": {},
   "outputs": [],
   "source": [
    "years = np.arange(y1,y2+1,1)\n",
    "hometeams = np.array(list(set(panel[\"home\"].values)))"
   ]
  },
  {
   "cell_type": "markdown",
   "metadata": {},
   "source": [
    "Now loop through teams and years and get temps for each game "
   ]
  },
  {
   "cell_type": "code",
   "execution_count": 7,
   "metadata": {},
   "outputs": [
    {
     "name": "stdout",
     "output_type": "stream",
     "text": [
      "1954\n",
      "1955\n",
      "1956\n",
      "1957\n",
      "1958\n",
      "1959\n",
      "1960\n",
      "1961\n",
      "1962\n",
      "1963\n",
      "1964\n",
      "1965\n",
      "1966\n",
      "1967\n",
      "1968\n",
      "1969\n",
      "1970\n",
      "1971\n",
      "1972\n",
      "1973\n",
      "1974\n",
      "1975\n",
      "1976\n",
      "1977\n",
      "1978\n",
      "1979\n",
      "1980\n",
      "1981\n",
      "1982\n",
      "1983\n",
      "1984\n",
      "1985\n",
      "1986\n",
      "1987\n",
      "1988\n",
      "1989\n",
      "1990\n",
      "1991\n",
      "1992\n",
      "1993\n",
      "1994\n",
      "1995\n",
      "1996\n",
      "1997\n",
      "1998\n",
      "1999\n",
      "2000\n",
      "2001\n",
      "2002\n",
      "2003\n",
      "2004\n",
      "2005\n",
      "2006\n",
      "2007\n",
      "2008\n",
      "2009\n",
      "2010\n",
      "2011\n",
      "2012\n",
      "2013\n",
      "2014\n",
      "2015\n",
      "2016\n",
      "2017\n",
      "2018\n",
      "2019\n"
     ]
    }
   ],
   "source": [
    "panel_years = panel[\"year\"].values\n",
    "panel_months = panel[\"month\"].values\n",
    "panel_days = panel[\"day\"].values\n",
    "\n",
    "for yy in years:\n",
    "    print(yy)\n",
    "    \n",
    "    decade = str(yy - np.mod(yy,10))\n",
    "    #print(decade)\n",
    "    for hh in hometeams:\n",
    "        \n",
    "        #indices = (panel[\"home\"]==hh) & (panel[\"year\"] == yy)\n",
    "        \n",
    "        # open event file for team and year\n",
    "        folder = loc_eventfiles+decade+\"seve/\"\n",
    "        teamyear = str(yy)+str(hh)\n",
    "        filename = [f for f in os.listdir(folder) if teamyear in f]\n",
    "        \n",
    "        if len(filename) != 0:\n",
    "            \n",
    "            #print(filename[0])\n",
    "            eventfile = pd.read_csv(folder+filename[0],sep=\"\\t\",header=None)[0]\n",
    "            \n",
    "            # get game dates\n",
    "            \n",
    "            game_indices = [\"id,\"+str(hh)+str(yy) in f for f in eventfile]\n",
    "            gameids = np.array([f.split(\",\")[1] for f in eventfile[game_indices].values])\n",
    "            \n",
    "            # we have to iteratively add temperature since it's not guaranteed\n",
    "            # that each game has temperature associated with it\n",
    "            for gg in np.arange(0,len(gameids),1):\n",
    "                gameid = gameids[gg]\n",
    "                game_index = list(eventfile).index(\"id,\"+gameid)\n",
    "                \n",
    "                game_month = int(gameid[7:9]) #np.array([int(x[7:9]) for x in gameids])\n",
    "                game_day = int(gameid[9:11]) #np.array([int(x[9:11]) for x in gameids])\n",
    "                gamedate_indices = (panel[\"home\"].values == hh) & (panel_years == yy) & (panel_months == game_month) & (panel_days == game_day)\n",
    "    \n",
    "                # test whether temp exists\n",
    "                does_temp_exist = [\"info,temp\" in f for f in eventfile[game_index:game_index+35]]\n",
    "                \n",
    "                if True in does_temp_exist:\n",
    "                    t = eventfile[game_index+(does_temp_exist.index(True))]\n",
    "                    tsplit = t.split(\",\")[2]\n",
    "                    if tsplit!=\"unknown\":\n",
    "                        temp = float(tsplit)\n",
    "                        temp_nan = np.where(temp==0,np.nan,temp)\n",
    "                        panel.loc[gamedate_indices,\"temp_retrosheet_f\"] = temp_nan\n",
    "                    else:\n",
    "                        panel.loc[gamedate_indices,\"temp_retrosheet_f\"] = np.nan\n",
    "                else:\n",
    "                    panel.loc[gamedate_indices,\"temp_retrosheet_f\"] = np.nan\n",
    "            \n",
    "                # test whether \"sky\" exists -- for dome\n",
    "                does_sky_exist = [\"info,sky\" in f for f in eventfile[game_index:game_index+35]]\n",
    "                \n",
    "                if True in does_sky_exist:\n",
    "                    sky = eventfile[game_index+(does_sky_exist.index(True))]\n",
    "                    skysplit = sky.split(\",\")[2]\n",
    "                    if skysplit==\"unknown\":\n",
    "                        panel.loc[gamedate_indices,\"dome_status\"] = np.nan\n",
    "                    if skysplit in [\"cloudy\",\"night\",\"overcast\",\"sunny\"]:\n",
    "                        panel.loc[gamedate_indices,\"dome_status\"] = 0\n",
    "                    if skysplit==\"dome\":\n",
    "                        panel.loc[gamedate_indices,\"dome_status\"] = 1\n",
    "                else:\n",
    "                    panel.loc[gamedate_indices,\"dome_status\"] = np.nan\n",
    "                \n",
    "            # get temps\n",
    "            \n",
    "            #temp_indices = [\"info,temp\" in f for f in eventfile]\n",
    "            #temps = np.array([int(f.split(\",\")[2]) for f in eventfile[temp_indices].values])\n",
    "            #temps_nan = np.where(temps==0,np.nan,temps)"
   ]
  },
  {
   "cell_type": "code",
   "execution_count": 8,
   "metadata": {},
   "outputs": [],
   "source": [
    "### convert to C\n",
    "panel[\"temp_retrosheet\"] = (panel[\"temp_retrosheet_f\"].values - 32) * (5.0/9.0)\n",
    "panel_out = panel.drop(columns=\"temp_retrosheet_f\")"
   ]
  },
  {
   "cell_type": "code",
   "execution_count": 9,
   "metadata": {},
   "outputs": [],
   "source": [
    "panel_out.to_csv(loc_gamelogs+\"GameLogs_Temp_\"+str(y1)+\"-\"+str(y2)+\".csv\")"
   ]
  }
 ],
 "metadata": {
  "kernelspec": {
   "display_name": "Python ccallahan",
   "language": "python",
   "name": "ccallahan"
  },
  "language_info": {
   "codemirror_mode": {
    "name": "ipython",
    "version": 3
   },
   "file_extension": ".py",
   "mimetype": "text/x-python",
   "name": "python",
   "nbconvert_exporter": "python",
   "pygments_lexer": "ipython3",
   "version": "3.7.3"
  }
 },
 "nbformat": 4,
 "nbformat_minor": 2
}
