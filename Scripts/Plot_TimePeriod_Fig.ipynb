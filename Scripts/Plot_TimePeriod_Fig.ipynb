{
 "cells": [
  {
   "cell_type": "markdown",
   "metadata": {},
   "source": [
    "# Results of temperature-home run regression\n",
    "#### Christopher Callahan\n",
    "#### Christopher.W.Callahan.GR@dartmouth.edu"
   ]
  },
  {
   "cell_type": "markdown",
   "metadata": {},
   "source": [
    "#### Mechanics\n",
    "Dependencies"
   ]
  },
  {
   "cell_type": "code",
   "execution_count": 1,
   "metadata": {},
   "outputs": [],
   "source": [
    "import numpy as np\n",
    "import pandas as pd\n",
    "import sys, os\n",
    "import matplotlib.pyplot as plt\n",
    "from matplotlib import rcParams\n",
    "import matplotlib.colors as colors\n",
    "import matplotlib.gridspec as gridspec\n",
    "import seaborn as sns\n",
    "from scipy import stats"
   ]
  },
  {
   "cell_type": "markdown",
   "metadata": {},
   "source": [
    "Data locations"
   ]
  },
  {
   "cell_type": "code",
   "execution_count": 2,
   "metadata": {},
   "outputs": [],
   "source": [
    "loc_panel = \"../Data/Panel/\"\n",
    "loc_reg = \"../Data/RegressionResults/\""
   ]
  },
  {
   "cell_type": "markdown",
   "metadata": {},
   "source": [
    "#### Analysis"
   ]
  },
  {
   "cell_type": "markdown",
   "metadata": {},
   "source": [
    "First, panel data"
   ]
  },
  {
   "cell_type": "code",
   "execution_count": 3,
   "metadata": {},
   "outputs": [],
   "source": [
    "y1 = 1954\n",
    "y2 = 2019\n",
    "y1_final = 1962\n",
    "data = pd.read_csv(loc_panel+\"baseball_climate_data_\"+str(y1)+\"-\"+str(y2)+\".csv\")\n",
    "data[\"tx\"] = data.tmax_hadisd\n",
    "data[\"tx2\"] = (data.tx)**2\n",
    "data[\"total_hr\"] = data.visitor_hr + data.home_hr\n",
    "data = data.loc[data.year.values>=y1_final,:]"
   ]
  },
  {
   "cell_type": "markdown",
   "metadata": {},
   "source": [
    "time period coefficients"
   ]
  },
  {
   "cell_type": "code",
   "execution_count": 7,
   "metadata": {},
   "outputs": [],
   "source": [
    "time_period_coefs = pd.read_csv(loc_reg+\"homeruns_tx_poisson_time_periods.csv\",index_col=0)"
   ]
  },
  {
   "cell_type": "code",
   "execution_count": 8,
   "metadata": {},
   "outputs": [
    {
     "data": {
      "image/png": "[encoded data removed]",
      "text/plain": [
       "<Figure size 576x504 with 1 Axes>"
      ]
     },
     "metadata": {
      "needs_background": "light"
     },
     "output_type": "display_data"
    }
   ],
   "source": [
    "fig = plt.figure(figsize=(8,7))\n",
    "rcParams[\"font.family\"] = \"sans-serif\"\n",
    "rcParams[\"font.sans-serif\"] = [\"Helvetica Neue\"]\n",
    "rcParams[\"font.size\"] = 21.0\n",
    "rcParams[\"axes.linewidth\"] = 1.3\n",
    "rcParams[\"xtick.major.size\"] = 8\n",
    "rcParams[\"xtick.major.width\"] = 1.3\n",
    "rcParams[\"ytick.major.size\"] = 8\n",
    "rcParams[\"ytick.major.width\"] = 1.3\n",
    "\n",
    "gs1 = gridspec.GridSpec(1,1)\n",
    "gs1.update(left=0.2,right=0.95,top=0.9,bottom=0.12,wspace=0.19,hspace=0.3)\n",
    "\n",
    "tfs = 22\n",
    "\n",
    "ax = plt.subplot(gs1[0,0])\n",
    "#ax.spines['right'].set_visible(False)\n",
    "#ax.spines['top'].set_visible(False)\n",
    "\n",
    "time_period_coefs_plot = time_period_coefs.iloc[:9,:]\n",
    "xtcks = [0,1,2,4,5,6,8,9,10]\n",
    "cols = [\"black\",\"blue\",\"red\",\\\n",
    "        \"black\",\"blue\",\"red\",\\\n",
    "        \"black\",\"blue\",\"red\"]\n",
    "for x in np.arange(0,len(xtcks),1):\n",
    "    mn = time_period_coefs_plot.iloc[x,:].beta*100\n",
    "    lower = time_period_coefs_plot.iloc[x,:].ci2_5*100\n",
    "    upper = time_period_coefs_plot.iloc[x,:].ci97_5*100\n",
    "\n",
    "    plt.scatter(xtcks[x],mn,s=150,color=cols[x])\n",
    "    if xtcks[x] == 8:\n",
    "        plt.plot([xtcks[x],xtcks[x]],[lower,upper],color=cols[x],\n",
    "             linestyle=\"-\",linewidth=1.8,label=\"All\")\n",
    "    elif xtcks[x] == 9:\n",
    "        plt.plot([xtcks[x],xtcks[x]],[lower,upper],color=cols[x],\n",
    "             linestyle=\"-\",linewidth=1.8,label=\"Day\")\n",
    "    elif xtcks[x] == 10:\n",
    "        plt.plot([xtcks[x],xtcks[x]],[lower,upper],color=cols[x],\n",
    "             linestyle=\"-\",linewidth=1.8,label=\"Night\")\n",
    "    else:\n",
    "        plt.plot([xtcks[x],xtcks[x]],[lower,upper],color=cols[x],\n",
    "             linestyle=\"-\",linewidth=1.8)\n",
    "\n",
    "time_periods = [\"1962-1981\",\"1982-1999\",\"2000-2019\"]\n",
    "plt.xticks(ticks=[1,5,9],labels=time_periods)\n",
    "\n",
    "leg = plt.legend(loc=\"lower left\",fontsize=19,frameon=False,\n",
    "          bbox_to_anchor=(0,0.03,0,0),handlelength=1.7,ncol=3)\n",
    "#title=\"game type\"\n",
    "for legobj in leg.legendHandles:\n",
    "    legobj.set_linewidth(2.5)\n",
    "leg.get_title().set_fontsize(\"19\")\n",
    "\n",
    "plt.axhline(y=0,linewidth=1.3,color=\"black\",linestyle=\"--\")\n",
    "plt.ylabel(\"Change in HR per degree (% per $\\degree$C)\")\n",
    "plt.yticks([0,1,2,3,4])\n",
    "plt.xlim([-1,11])\n",
    "plt.title(\"Temperature effect by time period\",fontsize=tfs,pad=10)\n",
    "\n",
    "\n",
    "plt.savefig(\"../Figures/FigX_Time_Period_Coefs.pdf\")\n",
    "plt.show()"
   ]
  }
 ],
 "metadata": {
  "kernelspec": {
   "display_name": "Python ccallahan",
   "language": "python",
   "name": "ccallahan"
  },
  "language_info": {
   "codemirror_mode": {
    "name": "ipython",
    "version": 3
   },
   "file_extension": ".py",
   "mimetype": "text/x-python",
   "name": "python",
   "nbconvert_exporter": "python",
   "pygments_lexer": "ipython3",
   "version": "3.7.3"
  }
 },
 "nbformat": 4,
 "nbformat_minor": 2
}
