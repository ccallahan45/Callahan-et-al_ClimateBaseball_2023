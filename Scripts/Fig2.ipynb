{
 "cells": [
  {
   "cell_type": "markdown",
   "metadata": {},
   "source": [
    "# Figure 2 - regression results\n",
    "#### Christopher Callahan\n",
    "#### Christopher.W.Callahan.GR@dartmouth.edu"
   ]
  },
  {
   "cell_type": "markdown",
   "metadata": {},
   "source": [
    "#### Mechanics\n",
    "Dependencies"
   ]
  },
  {
   "cell_type": "code",
   "execution_count": 2,
   "metadata": {},
   "outputs": [],
   "source": [
    "import xarray as xr\n",
    "import numpy as np\n",
    "import sys\n",
    "import os\n",
    "import datetime\n",
    "import pandas as pd\n",
    "import matplotlib.pyplot as plt\n",
    "from matplotlib import rcParams\n",
    "import matplotlib.colors as colors\n",
    "import matplotlib.gridspec as gridspec\n",
    "import seaborn as sns\n",
    "from rasterio import features\n",
    "from affine import Affine\n",
    "import geopandas as gp\n",
    "import descartes\n",
    "import cartopy as cart\n",
    "import cartopy.crs as ccrs\n",
    "import cartopy.feature as cfeature\n",
    "from cartopy.feature import ShapelyFeature\n",
    "from scipy import stats"
   ]
  },
  {
   "cell_type": "markdown",
   "metadata": {},
   "source": [
    "Data location"
   ]
  },
  {
   "cell_type": "code",
   "execution_count": 3,
   "metadata": {},
   "outputs": [],
   "source": [
    "loc_reg = \"../Data/RegressionResults/\"\n",
    "loc_panel = \"../Data/Panel/\""
   ]
  },
  {
   "cell_type": "markdown",
   "metadata": {},
   "source": [
    "Years"
   ]
  },
  {
   "cell_type": "code",
   "execution_count": 4,
   "metadata": {},
   "outputs": [],
   "source": [
    "y1_panel = 1954\n",
    "y2_panel = 2019"
   ]
  },
  {
   "cell_type": "markdown",
   "metadata": {},
   "source": [
    "#### Analysis/plotting"
   ]
  },
  {
   "cell_type": "markdown",
   "metadata": {},
   "source": [
    "Panel data"
   ]
  },
  {
   "cell_type": "code",
   "execution_count": 5,
   "metadata": {},
   "outputs": [],
   "source": [
    "data = pd.read_csv(loc_panel+\"baseball_climate_data_\"+str(y1_panel)+\"-\"+str(y2_panel)+\".csv\")\n",
    "y1_final = 1962\n",
    "data = data.loc[data.year>=y1_final,:]\n",
    "data[\"total_hr\"] = data[\"visitor_hr\"] + data[\"home_hr\"]\n",
    "data[\"tx\"] = data[\"tmax_hadisd\"]*1.0"
   ]
  },
  {
   "cell_type": "markdown",
   "metadata": {},
   "source": [
    "Regression results"
   ]
  },
  {
   "cell_type": "code",
   "execution_count": 6,
   "metadata": {},
   "outputs": [],
   "source": [
    "coefs_df = pd.read_csv(loc_reg+\"homeruns_tx_poisson_gametypes.csv\",index_col=0)\n",
    "beta = coefs_df.loc[coefs_df.types==\"all_nodome\",\"beta\"].values[0]\n",
    "se = coefs_df.loc[coefs_df.types==\"all_nodome\",\"se\"].values[0]\n",
    "nboot = 1000"
   ]
  },
  {
   "cell_type": "markdown",
   "metadata": {},
   "source": [
    "Placebo results"
   ]
  },
  {
   "cell_type": "code",
   "execution_count": 7,
   "metadata": {},
   "outputs": [],
   "source": [
    "#placebo_coefs_df = pd.read_csv(loc_reg+\"homeruns_tx_poisson_gametypes_placebo.csv\",index_col=0)\n",
    "placebo_coefs_df = pd.read_csv(loc_reg+\"homeruns_tx_poisson_gametypes_placebo_parkgroup.csv\",index_col=0)"
   ]
  },
  {
   "cell_type": "markdown",
   "metadata": {},
   "source": [
    "Mean home runs and tx"
   ]
  },
  {
   "cell_type": "code",
   "execution_count": 8,
   "metadata": {},
   "outputs": [],
   "source": [
    "mean_hr = np.nanmean(data.total_hr.values)\n",
    "mean_tx = np.nanmean(data.tx.values)"
   ]
  },
  {
   "cell_type": "markdown",
   "metadata": {},
   "source": [
    "Resample coef, normal distribution"
   ]
  },
  {
   "cell_type": "code",
   "execution_count": 9,
   "metadata": {},
   "outputs": [],
   "source": [
    "np.random.seed(100)\n",
    "coefs_dist = np.random.normal(loc=beta,scale=se,size=nboot)"
   ]
  },
  {
   "cell_type": "markdown",
   "metadata": {},
   "source": [
    "Calc Poisson results, centered on the mean"
   ]
  },
  {
   "cell_type": "code",
   "execution_count": 10,
   "metadata": {},
   "outputs": [],
   "source": [
    "x = np.arange(-1,45+1,1)\n",
    "center_ind = np.argmin(np.abs(x-mean_tx))\n",
    "yhat = np.zeros((nboot,len(x)))\n",
    "yhat_centered = np.zeros((nboot,len(x)))\n",
    "for n in np.arange(0,nboot,1):\n",
    "    yh = np.exp(x*coefs_dist[n])\n",
    "    yhat[n,:] = yh\n",
    "    # center on means\n",
    "    yhat_centered[n,:] = yh - yh[center_ind] + mean_hr"
   ]
  },
  {
   "cell_type": "markdown",
   "metadata": {},
   "source": [
    "Statcast results"
   ]
  },
  {
   "cell_type": "code",
   "execution_count": 11,
   "metadata": {},
   "outputs": [],
   "source": [
    "#mean_total_hr = 2.38\n",
    "mean_total_hits = 24.98"
   ]
  },
  {
   "cell_type": "code",
   "execution_count": 12,
   "metadata": {},
   "outputs": [],
   "source": [
    "hr_prob_ols = pd.read_csv(loc_reg+\"hr_probability_speed_angle_ols.csv\",index_col=0)"
   ]
  },
  {
   "cell_type": "code",
   "execution_count": 13,
   "metadata": {},
   "outputs": [
    {
     "data": {
      "text/html": [
       "<div>\n",
       "<style scoped>\n",
       "    .dataframe tbody tr th:only-of-type {\n",
       "        vertical-align: middle;\n",
       "    }\n",
       "\n",
       "    .dataframe tbody tr th {\n",
       "        vertical-align: top;\n",
       "    }\n",
       "\n",
       "    .dataframe thead th {\n",
       "        text-align: right;\n",
       "    }\n",
       "</style>\n",
       "<table border=\"1\" class=\"dataframe\">\n",
       "  <thead>\n",
       "    <tr style=\"text-align: right;\">\n",
       "      <th></th>\n",
       "      <th>beta</th>\n",
       "      <th>se</th>\n",
       "      <th>ci2_5</th>\n",
       "      <th>ci97_5</th>\n",
       "    </tr>\n",
       "  </thead>\n",
       "  <tbody>\n",
       "    <tr>\n",
       "      <th>1</th>\n",
       "      <td>0.001642</td>\n",
       "      <td>0.000138</td>\n",
       "      <td>0.001371</td>\n",
       "      <td>0.001912</td>\n",
       "    </tr>\n",
       "  </tbody>\n",
       "</table>\n",
       "</div>"
      ],
      "text/plain": [
       "       beta        se     ci2_5    ci97_5\n",
       "1  0.001642  0.000138  0.001371  0.001912"
      ]
     },
     "execution_count": 13,
     "metadata": {},
     "output_type": "execute_result"
    }
   ],
   "source": [
    "hr_prob_ols"
   ]
  },
  {
   "cell_type": "markdown",
   "metadata": {},
   "source": [
    "Time period results for comparison to statcast"
   ]
  },
  {
   "cell_type": "code",
   "execution_count": 14,
   "metadata": {},
   "outputs": [],
   "source": [
    "time_period_coefs = pd.read_csv(loc_reg+\"homeruns_tx_poisson_time_periods.csv\",index_col=0)"
   ]
  },
  {
   "cell_type": "code",
   "execution_count": 15,
   "metadata": {},
   "outputs": [],
   "source": [
    "mean_total_hr = np.mean(data.loc[(data.dome==0)&(data.year>=2015)&(data.year<=2019),\"total_hr\"].values)"
   ]
  },
  {
   "cell_type": "code",
   "execution_count": 16,
   "metadata": {},
   "outputs": [
    {
     "data": {
      "text/plain": [
       "2.375498449268941"
      ]
     },
     "execution_count": 16,
     "metadata": {},
     "output_type": "execute_result"
    }
   ],
   "source": [
    "mean_total_hr"
   ]
  },
  {
   "cell_type": "code",
   "execution_count": 17,
   "metadata": {},
   "outputs": [
    {
     "data": {
      "text/html": [
       "<div>\n",
       "<style scoped>\n",
       "    .dataframe tbody tr th:only-of-type {\n",
       "        vertical-align: middle;\n",
       "    }\n",
       "\n",
       "    .dataframe tbody tr th {\n",
       "        vertical-align: top;\n",
       "    }\n",
       "\n",
       "    .dataframe thead th {\n",
       "        text-align: right;\n",
       "    }\n",
       "</style>\n",
       "<table border=\"1\" class=\"dataframe\">\n",
       "  <thead>\n",
       "    <tr style=\"text-align: right;\">\n",
       "      <th></th>\n",
       "      <th>beta</th>\n",
       "      <th>se</th>\n",
       "      <th>ci2_5</th>\n",
       "      <th>ci97_5</th>\n",
       "    </tr>\n",
       "  </thead>\n",
       "  <tbody>\n",
       "    <tr>\n",
       "      <th>1</th>\n",
       "      <td>0.041006</td>\n",
       "      <td>0.003444</td>\n",
       "      <td>0.034256</td>\n",
       "      <td>0.047756</td>\n",
       "    </tr>\n",
       "  </tbody>\n",
       "</table>\n",
       "</div>"
      ],
      "text/plain": [
       "       beta        se     ci2_5    ci97_5\n",
       "1  0.041006  0.003444  0.034256  0.047756"
      ]
     },
     "execution_count": 17,
     "metadata": {},
     "output_type": "execute_result"
    }
   ],
   "source": [
    "hr_prob_ols*mean_total_hits"
   ]
  },
  {
   "cell_type": "code",
   "execution_count": 18,
   "metadata": {},
   "outputs": [
    {
     "data": {
      "text/plain": [
       "0.043503311257874516"
      ]
     },
     "execution_count": 18,
     "metadata": {},
     "output_type": "execute_result"
    }
   ],
   "source": [
    "time_period_coefs.loc[(time_period_coefs.y1==2015)&(time_period_coefs.daynight==\"both\"),\"beta\"].values[0]*mean_total_hr"
   ]
  },
  {
   "cell_type": "markdown",
   "metadata": {},
   "source": [
    "Fig"
   ]
  },
  {
   "cell_type": "code",
   "execution_count": 19,
   "metadata": {},
   "outputs": [
    {
     "data": {
      "image/png": "[encoded data removed]",
      "text/plain": [
       "<Figure size 1656x504 with 6 Axes>"
      ]
     },
     "metadata": {
      "needs_background": "light"
     },
     "output_type": "display_data"
    }
   ],
   "source": [
    "fig = plt.figure(figsize=(23,7))\n",
    "\n",
    "rcParams[\"font.family\"] = \"sans-serif\"\n",
    "rcParams[\"font.sans-serif\"] = [\"Helvetica Neue\"]\n",
    "rcParams[\"font.size\"] = 20.0\n",
    "rcParams[\"axes.linewidth\"] = 1.3\n",
    "rcParams['xtick.major.size'] = 8\n",
    "rcParams['xtick.major.width'] = 1.3\n",
    "rcParams['ytick.major.size'] = 8\n",
    "rcParams['ytick.major.width'] = 1.3\n",
    "\n",
    "gs1 = gridspec.GridSpec(1,3)\n",
    "gs1.update(left=0.15,right=0.9,top=0.87,bottom=0.13,wspace=0.2,hspace=0.3)\n",
    "\n",
    "tfs = 22\n",
    "\n",
    "## regression results\n",
    "ax = plt.subplot(gs1[0,0])\n",
    "\n",
    "\n",
    "yh_mean = np.mean(yhat_centered,axis=0)\n",
    "yh_lower = np.percentile(yhat_centered,2.5,axis=0)\n",
    "yh_upper = np.percentile(yhat_centered,97.5,axis=0)\n",
    "\n",
    "plt.plot(x,yh_mean,color=\"red\",linewidth=1.9)\n",
    "ax.fill_between(x,yh_lower,yh_upper,color=\"black\",alpha=0.15)\n",
    "\n",
    "plt.xlabel(\"Daily high temperature ($\\degree$C)\")\n",
    "plt.ylabel(\"Home runs per game\")\n",
    "xl = [-2,46]\n",
    "plt.xlim(xl)\n",
    "plt.ylim([0.9,3.1])\n",
    "plt.yticks([1,1.5,2,2.5,3])\n",
    "plt.title(\"Home runs respond to temperature\",fontsize=tfs,pad=10)\n",
    "\n",
    "plt.text(0.06,0.9,\"Poisson model\",fontsize=18,\n",
    "         transform=ax.transAxes)\n",
    "plt.text(0.06,0.83,\"Park + yr + day-of-yr FE\",fontsize=18,\n",
    "         transform=ax.transAxes)\n",
    "plt.text(0.06,0.76,\"N = 98,978\",fontsize=18,\n",
    "         transform=ax.transAxes)\n",
    "plt.text(0.06,0.69,\"No dome\",fontsize=18,\n",
    "         transform=ax.transAxes)\n",
    "\n",
    "## inset histogram at bottom\n",
    "inset_ax = fig.add_axes([0.15,0.131,0.221,0.09])\n",
    "\n",
    "bns = np.arange(-1,46+1,1)\n",
    "inset_ax.hist(data.tx,color=\"lightgray\",linewidth=1,\n",
    "              edgecolor=\"black\",bins=bns)\n",
    "\n",
    "inset_ax.spines[\"right\"].set_visible(False)\n",
    "inset_ax.spines[\"top\"].set_visible(False)\n",
    "inset_ax.set_xlim(xl)\n",
    "#inset_ax.set_ylim([0,35])\n",
    "inset_ax.spines[\"bottom\"].set_visible(False)\n",
    "inset_ax.spines[\"left\"].set_visible(False)\n",
    "inset_ax.set_yticks([])\n",
    "inset_ax.set_xticks([])\n",
    "inset_ax.patch.set_alpha(0)\n",
    "\n",
    "\n",
    "## game type coefficients\n",
    "ax = plt.subplot(gs1[0,1])\n",
    "\n",
    "\n",
    "type_df = coefs_df.iloc[3:,]\n",
    "types = type_df.types.values\n",
    "type_nms = [\"Day\"+\"\\n\"+\"No dome\",\\\n",
    "            \"Night\"+\"\\n\"+\"No dome\",\\\n",
    "            \"Day\"+\"\\n\"+\"Dome\",\"Night\"+\"\\n\"+\"Dome\"]\n",
    "for j in np.arange(0,len(types),1):\n",
    "    mn = type_df.iloc[j,:].beta*100\n",
    "    lower = type_df.iloc[j,:].ci2_5*100\n",
    "    upper = type_df.iloc[j,:].ci97_5*100\n",
    "    \n",
    "    if j == 0:\n",
    "        plt.scatter(j-0.1,mn,s=150,color=\"red\",zorder=3,\n",
    "                   label=\"Estimated effect\")\n",
    "    else:\n",
    "        plt.scatter(j-0.1,mn,s=150,color=\"red\",zorder=3)\n",
    "    plt.plot([j-0.1,j-0.1],[lower,upper],color=\"red\",\n",
    "             linestyle=\"-\",linewidth=1.8,zorder=2)\n",
    "    \n",
    "type_df_placebo = placebo_coefs_df.iloc[3:,:]\n",
    "for j in np.arange(0,len(types),1):\n",
    "    mn = type_df_placebo.iloc[j,:].beta*100\n",
    "    lower = type_df_placebo.iloc[j,:].ci2_5*100\n",
    "    upper = type_df_placebo.iloc[j,:].ci97_5*100\n",
    "    \n",
    "    if j == 0:\n",
    "        plt.scatter(j+0.1,mn,s=150,color=\"black\",zorder=3,\n",
    "                   label=\"Placebo distribution\")\n",
    "    else:\n",
    "        plt.scatter(j+0.1,mn,s=150,color=\"black\",zorder=3)\n",
    "    plt.plot([j+0.1,j+0.1],[lower,upper],color=\"black\",\n",
    "             linestyle=\"-\",linewidth=1.8,zorder=2)\n",
    "    \n",
    "plt.axhline(y=0,linewidth=1.3,color=\"black\",linestyle=\"--\",zorder=1)\n",
    "plt.xticks(ticks=np.arange(0,len(types),1),labels=type_nms)\n",
    "plt.ylabel(\"Change in HR per degree (% per $\\degree$C)\")\n",
    "plt.xlim([-0.4,3.4])\n",
    "#plt.ylim([0.9,2.7])\n",
    "plt.yticks([0,1,2,3])\n",
    "plt.title(\"Temperature effect by game type\",fontsize=tfs,pad=10)\n",
    "plt.legend(loc=\"upper right\",frameon=False,fontsize=18,\n",
    "          handletextpad=0.2)\n",
    "\n",
    "\n",
    "## statcast data recovers main effect\n",
    "#ax = plt.subplot(gs1[0,2])\n",
    "\n",
    "l = 0.67\n",
    "w = 0.22\n",
    "h = 0.11\n",
    "ax_top = fig.add_axes([l,0.76,w,h])\n",
    "ax_top.set_xlabel(\"Percent change in total HR per $\\degree$C (%)\")\n",
    "ax_top.set_yticks([])\n",
    "ax_top.set_title(\"Statcast data recovers effect\",fontsize=tfs,pad=10)\n",
    "\n",
    "beta1 = time_period_coefs.loc[(time_period_coefs.daynight==\"both\")&(time_period_coefs.y1==2015),\"beta\"].values[0]\n",
    "se1 = time_period_coefs.loc[(time_period_coefs.daynight==\"both\")&(time_period_coefs.y1==2015),\"se\"].values[0]\n",
    "plt.scatter(beta1*100,1,color=\"red\",s=150)\n",
    "plt.plot([beta1*100-se1*1.96*100,beta1*100+se1*1.96*100],\n",
    "        [1,1],color=\"red\",linewidth=1.8)\n",
    "ax_top.set_ylim([0,2])\n",
    "ax_top.set_xlim([-0.2,2.8])\n",
    "ax_top.text(0.05,0.4,\"Original data\",fontsize=18,color=\"red\",\n",
    "           transform=ax_top.transAxes)\n",
    "\n",
    "\n",
    "ax_middle = fig.add_axes([l,0.5,w,h])\n",
    "ax_middle.set_xlabel(\"Change in batted ball P(HR) per $\\degree$C (p.p.)\")\n",
    "ax_middle.set_yticks([])\n",
    "plt.scatter(hr_prob_ols.beta*100,1,color=\"blue\",s=150)\n",
    "plt.plot([hr_prob_ols.beta*100-hr_prob_ols.se*1.96*100,hr_prob_ols.beta*100+hr_prob_ols.se*1.96*100],\n",
    "        [1,1],color=\"blue\",linewidth=1.8)\n",
    "\n",
    "ax_middle.set_ylim([0,2])\n",
    "ax_middle.set_xlim([-0.02,0.23])\n",
    "ax_middle.text(0.05,0.4,\"Statcast data\",fontsize=18,color=\"blue\",\n",
    "              transform=ax_middle.transAxes)\n",
    "\n",
    "\n",
    "\n",
    "ax_bottom = fig.add_axes([l,0.13,w,h*2])\n",
    "ax_bottom.set_xlabel(\"Change in total HR number per $\\degree$C\")\n",
    "ax_bottom.set_yticks([])\n",
    "\n",
    "# statcast\n",
    "statcast_hrnum_mean = hr_prob_ols.beta.values[0] * mean_total_hits\n",
    "statcast_hrnum_se = hr_prob_ols.se.values[0] * mean_total_hits\n",
    "\n",
    "#orig_hrnum_mean = beta * mean_total_hr\n",
    "#orig_hrnum_se = se * mean_total_hr\n",
    "orig_hrnum_beta = mean_total_hr*time_period_coefs.loc[(time_period_coefs.daynight==\"both\")&(time_period_coefs.y1==2015),\"beta\"].values[0]\n",
    "orig_hrnum_se = mean_total_hr*time_period_coefs.loc[(time_period_coefs.daynight==\"both\")&(time_period_coefs.y1==2015),\"se\"].values[0]\n",
    "\n",
    "plt.scatter(statcast_hrnum_mean,1,s=150,color=\"blue\")\n",
    "plt.plot([statcast_hrnum_mean-statcast_hrnum_se*1.96,statcast_hrnum_mean+statcast_hrnum_se*1.96],\n",
    "        [1,1],linewidth=1.6,color=\"blue\")\n",
    "\n",
    "plt.scatter(orig_hrnum_beta,2,s=150,color=\"red\")\n",
    "plt.plot([orig_hrnum_beta-orig_hrnum_se*1.96,orig_hrnum_beta+orig_hrnum_se*1.96],\n",
    "        [2,2],linewidth=1.6,color=\"red\")\n",
    "\n",
    "ax_bottom.set_xlim([-0.005,0.07])\n",
    "ax_bottom.set_ylim([0.3,2.7])\n",
    "ax_bottom.text(0.05,0.25,\"Statcast data\",fontsize=18,color=\"blue\",\n",
    "              transform=ax_bottom.transAxes)\n",
    "ax_bottom.text(0.05,0.65,\"Original data\",fontsize=18,color=\"red\",\n",
    "              transform=ax_bottom.transAxes)\n",
    "\n",
    "\n",
    "plt.figtext(0.135,0.92,r'$\\bf{A}$',fontsize=25)\n",
    "plt.figtext(0.4,0.92,r'$\\bf{B}$',fontsize=25)\n",
    "plt.figtext(0.655,0.92,r'$\\bf{C}$',fontsize=25)\n",
    "\n",
    "plt.savefig(\"../Figures/Fig2.pdf\")\n",
    "plt.show()"
   ]
  },
  {
   "cell_type": "code",
   "execution_count": 20,
   "metadata": {},
   "outputs": [
    {
     "data": {
      "text/plain": [
       "2.375498449268941"
      ]
     },
     "execution_count": 20,
     "metadata": {},
     "output_type": "execute_result"
    }
   ],
   "source": [
    "mean_total_hr"
   ]
  },
  {
   "cell_type": "code",
   "execution_count": 21,
   "metadata": {},
   "outputs": [
    {
     "data": {
      "text/plain": [
       "24.98"
      ]
     },
     "execution_count": 21,
     "metadata": {},
     "output_type": "execute_result"
    }
   ],
   "source": [
    "mean_total_hits"
   ]
  },
  {
   "cell_type": "code",
   "execution_count": 22,
   "metadata": {},
   "outputs": [
    {
     "data": {
      "text/plain": [
       "0.0183133402049842"
      ]
     },
     "execution_count": 22,
     "metadata": {},
     "output_type": "execute_result"
    }
   ],
   "source": [
    "beta1"
   ]
  },
  {
   "cell_type": "code",
   "execution_count": 23,
   "metadata": {},
   "outputs": [
    {
     "data": {
      "text/html": [
       "<div>\n",
       "<style scoped>\n",
       "    .dataframe tbody tr th:only-of-type {\n",
       "        vertical-align: middle;\n",
       "    }\n",
       "\n",
       "    .dataframe tbody tr th {\n",
       "        vertical-align: top;\n",
       "    }\n",
       "\n",
       "    .dataframe thead th {\n",
       "        text-align: right;\n",
       "    }\n",
       "</style>\n",
       "<table border=\"1\" class=\"dataframe\">\n",
       "  <thead>\n",
       "    <tr style=\"text-align: right;\">\n",
       "      <th></th>\n",
       "      <th>beta</th>\n",
       "      <th>se</th>\n",
       "      <th>ci2_5</th>\n",
       "      <th>ci97_5</th>\n",
       "    </tr>\n",
       "  </thead>\n",
       "  <tbody>\n",
       "    <tr>\n",
       "      <th>1</th>\n",
       "      <td>0.164156</td>\n",
       "      <td>0.013786</td>\n",
       "      <td>0.137135</td>\n",
       "      <td>0.191176</td>\n",
       "    </tr>\n",
       "  </tbody>\n",
       "</table>\n",
       "</div>"
      ],
      "text/plain": [
       "       beta        se     ci2_5    ci97_5\n",
       "1  0.164156  0.013786  0.137135  0.191176"
      ]
     },
     "execution_count": 23,
     "metadata": {},
     "output_type": "execute_result"
    }
   ],
   "source": [
    "hr_prob_ols*100"
   ]
  },
  {
   "cell_type": "code",
   "execution_count": 24,
   "metadata": {},
   "outputs": [
    {
     "data": {
      "text/plain": [
       "0.043503311257874516"
      ]
     },
     "execution_count": 24,
     "metadata": {},
     "output_type": "execute_result"
    }
   ],
   "source": [
    "orig_hrnum_beta"
   ]
  },
  {
   "cell_type": "code",
   "execution_count": 25,
   "metadata": {},
   "outputs": [
    {
     "data": {
      "text/plain": [
       "0.0410060479490142"
      ]
     },
     "execution_count": 25,
     "metadata": {},
     "output_type": "execute_result"
    }
   ],
   "source": [
    "statcast_hrnum_mean"
   ]
  },
  {
   "cell_type": "code",
   "execution_count": 26,
   "metadata": {},
   "outputs": [
    {
     "name": "stdout",
     "output_type": "stream",
     "text": [
      "0.025433664299610532\n"
     ]
    }
   ],
   "source": [
    "t_stat = (orig_hrnum_beta - statcast_hrnum_mean)/(np.sqrt(orig_hrnum_se + statcast_hrnum_se))\n",
    "print(t_stat)"
   ]
  },
  {
   "cell_type": "code",
   "execution_count": 27,
   "metadata": {},
   "outputs": [
    {
     "data": {
      "text/plain": [
       "[0.031357199948331214, 0.05564942256741782]"
      ]
     },
     "execution_count": 27,
     "metadata": {},
     "output_type": "execute_result"
    }
   ],
   "source": [
    "[orig_hrnum_beta-orig_hrnum_se*1.96,orig_hrnum_beta+orig_hrnum_se*1.96]"
   ]
  },
  {
   "cell_type": "code",
   "execution_count": 28,
   "metadata": {},
   "outputs": [
    {
     "data": {
      "text/plain": [
       "[0.034256290034346916, 0.04775580586368148]"
      ]
     },
     "execution_count": 28,
     "metadata": {},
     "output_type": "execute_result"
    }
   ],
   "source": [
    "[statcast_hrnum_mean-statcast_hrnum_se*1.96,statcast_hrnum_mean+statcast_hrnum_se*1.96]"
   ]
  },
  {
   "cell_type": "code",
   "execution_count": null,
   "metadata": {},
   "outputs": [],
   "source": []
  }
 ],
 "metadata": {
  "kernelspec": {
   "display_name": "Python ccallahan",
   "language": "python",
   "name": "ccallahan"
  },
  "language_info": {
   "codemirror_mode": {
    "name": "ipython",
    "version": 3
   },
   "file_extension": ".py",
   "mimetype": "text/x-python",
   "name": "python",
   "nbconvert_exporter": "python",
   "pygments_lexer": "ipython3",
   "version": "3.7.3"
  }
 },
 "nbformat": 4,
 "nbformat_minor": 2
}
