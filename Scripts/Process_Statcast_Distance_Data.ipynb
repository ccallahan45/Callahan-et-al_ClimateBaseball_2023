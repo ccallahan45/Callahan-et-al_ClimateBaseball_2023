{
 "cells": [
  {
   "cell_type": "markdown",
   "metadata": {},
   "source": [
    "# Processing statcast pitch/hit/distance data\n",
    "#### Christopher Callahan\n",
    "#### Christopher.W.Callahan.GR@dartmouth.edu"
   ]
  },
  {
   "cell_type": "markdown",
   "metadata": {},
   "source": [
    "#### Mechanics\n",
    "Dependencies"
   ]
  },
  {
   "cell_type": "code",
   "execution_count": 1,
   "metadata": {},
   "outputs": [],
   "source": [
    "import xarray as xr\n",
    "import numpy as np\n",
    "import sys\n",
    "import os\n",
    "import datetime\n",
    "import pandas as pd\n",
    "import matplotlib.pyplot as plt\n",
    "from mpl_toolkits.basemap import Basemap, cm\n",
    "from matplotlib import rcParams\n",
    "import matplotlib.gridspec as gridspec\n",
    "import seaborn as sns\n",
    "import statsmodels.api as sm\n",
    "from statsmodels.formula.api import ols as reg"
   ]
  },
  {
   "cell_type": "markdown",
   "metadata": {},
   "source": [
    "Data locations"
   ]
  },
  {
   "cell_type": "code",
   "execution_count": 2,
   "metadata": {},
   "outputs": [],
   "source": [
    "loc_in = \"../Data/Statcast/\"\n",
    "loc_panel = \"../Data/Panel/\""
   ]
  },
  {
   "cell_type": "markdown",
   "metadata": {},
   "source": [
    "#### Analysis"
   ]
  },
  {
   "cell_type": "markdown",
   "metadata": {},
   "source": [
    "years"
   ]
  },
  {
   "cell_type": "code",
   "execution_count": 3,
   "metadata": {},
   "outputs": [],
   "source": [
    "y1 = 2015 # start in 2015 because there's no distance data before then\n",
    "y2 = 2019\n",
    "years = np.arange(y1,y2+1,1)"
   ]
  },
  {
   "cell_type": "markdown",
   "metadata": {},
   "source": [
    "For each year read in data"
   ]
  },
  {
   "cell_type": "code",
   "execution_count": 4,
   "metadata": {},
   "outputs": [
    {
     "name": "stdout",
     "output_type": "stream",
     "text": [
      "2015\n",
      "2016\n",
      "2017\n",
      "2018\n",
      "2019\n"
     ]
    }
   ],
   "source": [
    "for yy in years:\n",
    "    print(yy)\n",
    "    \n",
    "    statcast_hr_yr = pd.read_csv(loc_in+\"statcast_homeruns_\"+str(yy)+\".csv\")\n",
    "    cols = [\"pitch_type\",\"game_date\",\"events\",\"home_team\",\"away_team\",\\\n",
    "            \"bb_type\",\"vx0\",\"vy0\",\"vz0\",\"ax\",\"ay\",\"az\",\"hit_distance_sc\",\\\n",
    "            \"launch_speed\",\"launch_angle\",\"release_spin_rate\",\"game_pk\",]\n",
    "    \n",
    "    statcast_hits_yr = pd.read_csv(loc_in+\"statcast_1b2b3b_\"+str(yy)+\".csv\")\n",
    "    statcast_outs_yr = pd.read_csv(loc_in+\"statcast_outs_\"+str(yy)+\".csv\")\n",
    "    \n",
    "    if yy==years[0]:\n",
    "        distance_data = statcast_hr_yr.loc[::-1,cols].reset_index().drop(columns=\"index\")\n",
    "        distance_data = pd.concat([distance_data,statcast_hits_yr.loc[::-1,cols].reset_index().drop(columns=\"index\")])\n",
    "        distance_data = pd.concat([distance_data,statcast_outs_yr.loc[::-1,cols].reset_index().drop(columns=\"index\")])\n",
    "    else:\n",
    "        distance_data = pd.concat([distance_data,statcast_hr_yr.loc[::-1,cols].reset_index().drop(columns=\"index\")])\n",
    "        distance_data = pd.concat([distance_data,statcast_hits_yr.loc[::-1,cols].reset_index().drop(columns=\"index\")])\n",
    "        distance_data = pd.concat([distance_data,statcast_outs_yr.loc[::-1,cols].reset_index().drop(columns=\"index\")])"
   ]
  },
  {
   "cell_type": "code",
   "execution_count": 5,
   "metadata": {},
   "outputs": [],
   "source": [
    "gby = [\"game_date\",\"home_team\",\"away_team\",\"events\",\"bb_type\"]\n",
    "mean_distance_data = distance_data.groupby(gby).mean().reset_index()"
   ]
  },
  {
   "cell_type": "markdown",
   "metadata": {},
   "source": [
    "Now read in the gamelogs panel so we can use home/away/date to determine which park each game was played in"
   ]
  },
  {
   "cell_type": "code",
   "execution_count": 6,
   "metadata": {},
   "outputs": [],
   "source": [
    "y1_panel = 1954\n",
    "y2_panel = 2019\n",
    "data = pd.read_csv(loc_panel+\"baseball_climate_data_\"+str(y1_panel)+\"-\"+str(y2_panel)+\".csv\")"
   ]
  },
  {
   "cell_type": "code",
   "execution_count": 7,
   "metadata": {},
   "outputs": [],
   "source": [
    "# parks\n",
    "# 2016-07-03, ATL home team vs. MIA, Fort Bragg Field, but no distance data"
   ]
  },
  {
   "cell_type": "code",
   "execution_count": 8,
   "metadata": {},
   "outputs": [],
   "source": [
    "tx_cols = [\"date\",\"visitor\",\"home\",\"daynight\",\"park_id\",\"tmax_hadisd\",\"windspeed_hadisd\",\"dome\",\"dome_status\"]\n",
    "tx_data = data.loc[(data.year.values>=y1)&(data.year.values<=y2),tx_cols].reset_index().drop(columns=\"index\")"
   ]
  },
  {
   "cell_type": "markdown",
   "metadata": {},
   "source": [
    "synchronize team codes"
   ]
  },
  {
   "cell_type": "code",
   "execution_count": 9,
   "metadata": {},
   "outputs": [],
   "source": [
    "data_team_codes = np.unique(tx_data.home.values)\n",
    "distance_team_codes = np.unique(distance_data.home_team.values)"
   ]
  },
  {
   "cell_type": "code",
   "execution_count": 10,
   "metadata": {},
   "outputs": [
    {
     "name": "stdout",
     "output_type": "stream",
     "text": [
      "ANA\n",
      "CHA\n",
      "CHN\n",
      "KCA\n",
      "LAN\n",
      "NYA\n",
      "NYN\n",
      "SDN\n",
      "SFN\n",
      "SLN\n",
      "TBA\n",
      "WAS\n",
      "12\n"
     ]
    }
   ],
   "source": [
    "count = 0\n",
    "for x in data_team_codes:\n",
    "    if x not in distance_data.home_team.values:\n",
    "        print(x)\n",
    "        count = count+1\n",
    "print(count)"
   ]
  },
  {
   "cell_type": "markdown",
   "metadata": {},
   "source": [
    "dictionary for team codes that don't match"
   ]
  },
  {
   "cell_type": "code",
   "execution_count": 11,
   "metadata": {},
   "outputs": [],
   "source": [
    "# only doing this for teams\n",
    "# that exist in the 2015-2019 time frame\n",
    "# e.g., ignoring brooklyn dodgers, montreal expos, etc.\n",
    "team_code_mapping = {\"ANA\":\"LAA\",\"CAL\":\"LAA\",\"CHA\":\"CWS\",\n",
    "                     \"CHN\":\"CHC\",\"FLO\":\"MIA\",\"KCA\":\"KC\",\n",
    "                     \"LAN\":\"LAD\",\"NYA\":\"NYY\",\"NYN\":\"NYM\",\n",
    "                     \"SDN\":\"SD\",\"SFN\":\"SF\",\"SLN\":\"STL\",\n",
    "                     \"TBA\":\"TB\",\"WAS\":\"WSH\"}"
   ]
  },
  {
   "cell_type": "code",
   "execution_count": 12,
   "metadata": {},
   "outputs": [],
   "source": [
    "tx_data[\"away_team\"] = np.full(tx_data.shape[0],\"NAN\")\n",
    "tx_data[\"home_team\"] = np.full(tx_data.shape[0],\"NAN\")"
   ]
  },
  {
   "cell_type": "code",
   "execution_count": 13,
   "metadata": {},
   "outputs": [],
   "source": [
    "for x in np.arange(0,tx_data.shape[0],1):\n",
    "    visitor_code = tx_data.loc[tx_data.index==x,\"visitor\"].values[0]\n",
    "    home_code = tx_data.loc[tx_data.index==x,\"home\"].values[0]\n",
    "    if visitor_code in distance_team_codes:\n",
    "        away_team = visitor_code\n",
    "    else:\n",
    "        away_team = team_code_mapping[visitor_code]\n",
    "    if home_code in distance_team_codes:\n",
    "        home_team = home_code\n",
    "    else:\n",
    "        home_team = team_code_mapping[home_code]\n",
    "    tx_data.loc[tx_data.index==x,\"away_team\"] = away_team\n",
    "    tx_data.loc[tx_data.index==x,\"home_team\"] = home_team"
   ]
  },
  {
   "cell_type": "markdown",
   "metadata": {},
   "source": [
    "create date column in tx_data"
   ]
  },
  {
   "cell_type": "code",
   "execution_count": 14,
   "metadata": {},
   "outputs": [],
   "source": [
    "tx_data[\"year\"] = [str(x)[0:4] for x in tx_data.date.values]\n",
    "tx_data[\"month\"] = [str(x)[4:6] for x in tx_data.date.values]\n",
    "tx_data[\"day\"] = [str(x)[6:8] for x in tx_data.date.values]"
   ]
  },
  {
   "cell_type": "code",
   "execution_count": 15,
   "metadata": {},
   "outputs": [],
   "source": [
    "tx_data[\"game_date\"] = tx_data[\"year\"]+\"-\"+tx_data[\"month\"]+\"-\"+tx_data[\"day\"]\n",
    "tx_data[\"dayofyear\"] = [pd.Period(x).dayofyear for x in tx_data.game_date.values]"
   ]
  },
  {
   "cell_type": "code",
   "execution_count": 16,
   "metadata": {},
   "outputs": [],
   "source": [
    "tx_cols_final = [\"daynight\",\"park_id\",\"tmax_hadisd\",\"windspeed_hadisd\",\"away_team\",\"home_team\",\"game_date\",\"year\",\"dayofyear\",\"dome\",\"dome_status\"]\n",
    "distance_data_final = pd.merge(distance_data,tx_data.loc[:,tx_cols_final],on=[\"game_date\",\"home_team\",\"away_team\"],how=\"left\")"
   ]
  },
  {
   "cell_type": "markdown",
   "metadata": {},
   "source": [
    "Write out!"
   ]
  },
  {
   "cell_type": "code",
   "execution_count": 17,
   "metadata": {},
   "outputs": [],
   "source": [
    "distance_data_final.to_csv(loc_panel+\"statcast_battedball_panel_\"+str(y1)+\"-\"+str(y2)+\".csv\")"
   ]
  }
 ],
 "metadata": {
  "kernelspec": {
   "display_name": "Python ccallahan",
   "language": "python",
   "name": "ccallahan"
  },
  "language_info": {
   "codemirror_mode": {
    "name": "ipython",
    "version": 3
   },
   "file_extension": ".py",
   "mimetype": "text/x-python",
   "name": "python",
   "nbconvert_exporter": "python",
   "pygments_lexer": "ipython3",
   "version": "3.7.3"
  }
 },
 "nbformat": 4,
 "nbformat_minor": 2
}
